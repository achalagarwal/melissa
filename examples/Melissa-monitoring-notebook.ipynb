{
 "cells": [
  {
   "cell_type": "markdown",
   "metadata": {},
   "source": [
    "# Melissa Monitoring\n",
    "\n",
    "Melissa monitoring is a Jupyter Notebook used for monitoring the progress of simulations.\n",
    "\n",
    "---\n",
    "\n",
    "### How to use it?\n",
    "1. Import options from options.py file\n",
    "2. Create MelissaMonitoring object from options\n",
    "3. Start study in thread\n",
    "4. While study is running you can ask for any data you need for monitoring or plot them direcly\n",
    "5. Join thread\n",
    "\n",
    "### Available data and plots\n",
    "* Job statuses (not submitted, waiting, running, finished, timeout)"
   ]
  },
  {
   "cell_type": "code",
   "execution_count": null,
   "metadata": {},
   "outputs": [],
   "source": [
    "%matplotlib inline\n",
    "import time\n",
    "import matplotlib.pyplot as plt\n",
    "from IPython import display\n",
    "from heat_example.study_local.options import STUDY_OPTIONS, MELISSA_STATS, USER_FUNCTIONS\n",
    "from MelissaMonitoring import utils"
   ]
  },
  {
   "cell_type": "code",
   "execution_count": null,
   "metadata": {},
   "outputs": [],
   "source": [
    "melissa_study = utils.MelissaMonitoring(STUDY_OPTIONS, MELISSA_STATS, USER_FUNCTIONS)\n",
    "melissa_study.startStudyInThread()\n",
    "fig, ax = plt.subplots(1,1)\n",
    "\n",
    "while melissa_study.isStudyRunning():\n",
    "    #plot data yourself or use built-in function\n",
    "    #jobStatusData = melissa_study.getJobStatusData()\n",
    "    melissa_study.plotJobStatus(ax)\n",
    "    display.clear_output(wait=True)\n",
    "    display.display(plt.gcf())\n",
    "    time.sleep(1)\n",
    "\n",
    "melissa_study.thread.join()"
   ]
  }
 ],
 "metadata": {
  "kernelspec": {
   "display_name": "Python 3",
   "language": "python",
   "name": "python3"
  },
  "language_info": {
   "codemirror_mode": {
    "name": "ipython",
    "version": 3
   },
   "file_extension": ".py",
   "mimetype": "text/x-python",
   "name": "python",
   "nbconvert_exporter": "python",
   "pygments_lexer": "ipython3",
   "version": "3.7.3"
  }
 },
 "nbformat": 4,
 "nbformat_minor": 2
}
