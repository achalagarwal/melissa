{
 "cells": [
  {
   "cell_type": "markdown",
   "metadata": {},
   "source": [
    "# Melissa Monitoring\n",
    "\n",
    "Melissa monitoring is a Jupyter Notebook used for monitoring the progress of simulations.\n",
    "\n",
    "---"
   ]
  },
  {
   "cell_type": "code",
   "execution_count": null,
   "metadata": {},
   "outputs": [],
   "source": [
    "%matplotlib inline\n",
    "import sys, os, threading, time\n",
    "from collections import Counter\n",
    "import matplotlib.pyplot as plt\n",
    "import numpy as np\n",
    "from heat_example.study_local.options import STUDY_OPTIONS, MELISSA_STATS, USER_FUNCTIONS\n",
    "from launcher.study import Study\n",
    "from MelissaMonitoring import utils\n",
    "from IPython import display"
   ]
  },
  {
   "cell_type": "code",
   "execution_count": null,
   "metadata": {},
   "outputs": [],
   "source": [
    "melissa_study = utils.MelissaMonitoring(STUDY_OPTIONS, MELISSA_STATS, USER_FUNCTIONS)\n",
    "melissa_study.startStudyInThread()\n",
    "fig, ax = plt.subplots(1,1)\n",
    "\n",
    "while melissa_study.isStudyRunning():\n",
    "    #plot data yourself or use built-in function\n",
    "    #jobStatusData = melissa_study.getJobStatusData()\n",
    "    melissa_study.plotJobStatus(ax)\n",
    "    display.clear_output(wait=True)\n",
    "    display.display(plt.gcf())\n",
    "    time.sleep(1)\n",
    "\n",
    "melissa_study.thread.join()"
   ]
  }
 ],
 "metadata": {
  "kernelspec": {
   "display_name": "Python 3",
   "language": "python",
   "name": "python3"
  },
  "language_info": {
   "codemirror_mode": {
    "name": "ipython",
    "version": 3
   },
   "file_extension": ".py",
   "mimetype": "text/x-python",
   "name": "python",
   "nbconvert_exporter": "python",
   "pygments_lexer": "ipython3",
   "version": "3.7.3"
  }
 },
 "nbformat": 4,
 "nbformat_minor": 2
}
