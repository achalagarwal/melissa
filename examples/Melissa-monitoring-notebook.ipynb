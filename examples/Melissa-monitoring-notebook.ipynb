{
 "cells": [
  {
   "cell_type": "markdown",
   "metadata": {},
   "source": [
    "# Melissa Monitoring\n",
    "\n",
    "Melissa monitoring is a Jupyter Notebook used for monitoring the progress of simulations.\n",
    "\n",
    "---\n",
    "\n",
    "### How to use it?\n",
    "README is located in MelissaMonitoring/README.md\n",
    "\n",
    "### Available data and plots\n",
    "* Plots (get/plot methods)\n",
    "  * Job statuses (not submitted, waiting, running, finished, timeout)\n",
    "  * Cores usage vs time\n",
    "  * Sobol confidence interval\n",
    "* Data (get/show methods)\n",
    "  * Jobs remaining time\n",
    "  * Server status\n",
    "  * Failed parameters\n",
    "  * Jobs CPU count\n",
    "  \n",
    "To get whole list of methods with docstrings, import MelissaMonitoring from MelissaMonitoring.main and type help(MelissaMonitoring)"
   ]
  },
  {
   "cell_type": "markdown",
   "metadata": {},
   "source": [
    "### Raw manual plotting"
   ]
  },
  {
   "cell_type": "code",
   "execution_count": null,
   "metadata": {},
   "outputs": [],
   "source": [
    "%matplotlib notebook\n",
    "from time import sleep\n",
    "import matplotlib.pyplot as plt\n",
    "\n",
    "from examples.heat_example.study_Slurm.options import STUDY_OPTIONS, MELISSA_STATS, USER_FUNCTIONS\n",
    "from MelissaMonitoring.main import MelissaMonitoring\n",
    "from MelissaMonitoring.utils import HiddenPrints"
   ]
  },
  {
   "cell_type": "code",
   "execution_count": null,
   "metadata": {
    "scrolled": false
   },
   "outputs": [],
   "source": [
    "fig, (ax1, ax2, ax3) = plt.subplots(3,1, figsize=(9,6))\n",
    "\n",
    "with HiddenPrints():\n",
    "    melissa_study = MelissaMonitoring(STUDY_OPTIONS, MELISSA_STATS, USER_FUNCTIONS)\n",
    "    melissa_study.startStudyInThread()\n",
    "    melissa_study.waitForInitialization()\n",
    "    \n",
    "    while melissa_study.isStudyRunning():\n",
    "        melissa_study.showServerStatus()\n",
    "        melissa_study.showFailedParameters()\n",
    "        melissa_study.showRemainingJobsTime()\n",
    "        melissa_study.showJobsCPUCount()\n",
    "        melissa_study.plotJobStatus(ax=ax1)\n",
    "        melissa_study.plotSobolConfidenceInterval(ax=ax2)\n",
    "        melissa_study.plotCoresUsage(ax=ax3)\n",
    "        \n",
    "        fig.canvas.draw() #Redraw plot\n",
    "        sleep(0.5)\n",
    "\n",
    "melissa_study.cleanUp()\n",
    "print(melissa_study.getStudyInfo())"
   ]
  },
  {
   "cell_type": "markdown",
   "metadata": {},
   "source": [
    "### Melissa Dash"
   ]
  },
  {
   "cell_type": "code",
   "execution_count": null,
   "metadata": {},
   "outputs": [],
   "source": [
    "from examples.heat_example.study_Slurm.options import STUDY_OPTIONS, MELISSA_STATS, USER_FUNCTIONS\n",
    "from MelissaMonitoring.interface import MelissaDash"
   ]
  },
  {
   "cell_type": "code",
   "execution_count": null,
   "metadata": {
    "scrolled": false
   },
   "outputs": [],
   "source": [
    "app = MelissaDash(STUDY_OPTIONS, MELISSA_STATS, USER_FUNCTIONS)\n",
    "app.start(refreshRate = 0.5)"
   ]
  }
 ],
 "metadata": {
  "kernelspec": {
   "display_name": "Python 3",
   "language": "python",
   "name": "python3"
  },
  "language_info": {
   "codemirror_mode": {
    "name": "ipython",
    "version": 3
   },
   "file_extension": ".py",
   "mimetype": "text/x-python",
   "name": "python",
   "nbconvert_exporter": "python",
   "pygments_lexer": "ipython3",
   "version": "3.7.3"
  }
 },
 "nbformat": 4,
 "nbformat_minor": 2
}
