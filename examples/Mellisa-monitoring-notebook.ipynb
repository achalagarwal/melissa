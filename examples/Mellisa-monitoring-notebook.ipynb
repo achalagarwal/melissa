{
 "cells": [
  {
   "cell_type": "markdown",
   "metadata": {},
   "source": [
    "# Melissa Monitoring\n",
    "\n",
    "Melissa monitoring is a Jupyter Notebook used for monitoring the progress of simulations.\n",
    "\n",
    "---\n"
   ]
  },
  {
   "cell_type": "code",
   "execution_count": null,
   "metadata": {},
   "outputs": [],
   "source": [
    "%matplotlib inline\n",
    "import sys, os, threading, time\n",
    "from collections import Counter\n",
    "import matplotlib.pyplot as plt\n",
    "from IPython import display\n",
    "\n",
    "from heat_example.study_local.options import STUDY_OPTIONS, MELISSA_STATS, USER_FUNCTIONS\n",
    "from launcher.study import Study\n",
    "\n",
    "melissa_study = Study(STUDY_OPTIONS, MELISSA_STATS, USER_FUNCTIONS)\n",
    "thread = threading.Thread(target=melissa_study.run)\n",
    "\n",
    "thread.start() \n",
    "\n",
    "while melissa_study.state_checker.running_study:\n",
    "    time.sleep(0.5)\n",
    "    plt.clf()\n",
    "    plt.title('Simulations status')\n",
    "    plt.xticks([-1,0,1,2,4], ['Not submitted', 'Waiting', 'Running', 'Finished', 'Timeout'])\n",
    "    plotData = dict(Counter(map(lambda x: x.job_status, melissa_study.groups)))\n",
    "    x = list(plotData.keys())\n",
    "    y = list(plotData.values())\n",
    "    plt.bar(x,y)\n",
    "    display.clear_output(wait=True)\n",
    "    display.display(plt.gcf())\n",
    "\n",
    "thread.join()"
   ]
  },
  {
   "cell_type": "code",
   "execution_count": null,
   "metadata": {},
   "outputs": [],
   "source": []
  }
 ],
 "metadata": {
  "kernelspec": {
   "display_name": "Python 3",
   "language": "python",
   "name": "python3"
  },
  "language_info": {
   "codemirror_mode": {
    "name": "ipython",
    "version": 3
   },
   "file_extension": ".py",
   "mimetype": "text/x-python",
   "name": "python",
   "nbconvert_exporter": "python",
   "pygments_lexer": "ipython3",
   "version": "3.7.3"
  }
 },
 "nbformat": 4,
 "nbformat_minor": 2
}
